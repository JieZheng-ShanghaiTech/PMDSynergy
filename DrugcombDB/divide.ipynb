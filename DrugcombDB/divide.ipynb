{
 "cells": [
  {
   "cell_type": "markdown",
   "metadata": {},
   "source": [
    "General"
   ]
  },
  {
   "cell_type": "code",
   "execution_count": 1,
   "metadata": {},
   "outputs": [
    {
     "name": "stdout",
     "output_type": "stream",
     "text": [
      "数据集划分完成，已保存为 train_data.csv, val_data.csv, test_data.csv\n"
     ]
    }
   ],
   "source": [
    "import pandas as pd\n",
    "from sklearn.model_selection import train_test_split\n",
    "\n",
    "# 读取数据\n",
    "# file_path = 'all_drug.csv'  # 请替换为你的文件路径\n",
    "file_path = 'DrugcombDB.csv'\n",
    "data = pd.read_csv(file_path)\n",
    "\n",
    "# 随机抽取10%的数据\n",
    "data_subset = data.sample(frac=1.0, random_state=42)\n",
    "\n",
    "# 划分为训练集、测试集和验证集（6:2:2）\n",
    "train_data, temp_data = train_test_split(data_subset, test_size=0.4, random_state=42)  # 60%训练集, 40%其余数据\n",
    "val_data, test_data = train_test_split(temp_data, test_size=0.5, random_state=42)  # 将剩下的40%数据等分为验证集和测试集\n",
    "\n",
    "# 保存为新的CSV文件\n",
    "train_data.to_csv('train_data.csv', index=False)\n",
    "val_data.to_csv('val_data.csv', index=False)\n",
    "test_data.to_csv('test_data.csv', index=False)\n",
    "\n",
    "print(\"数据集划分完成，已保存为 train_data.csv, val_data.csv, test_data.csv\")"
   ]
  },
  {
   "cell_type": "markdown",
   "metadata": {},
   "source": [
    "Leave drug combination out"
   ]
  },
  {
   "cell_type": "code",
   "execution_count": null,
   "metadata": {},
   "outputs": [],
   "source": [
    "import pandas as pd\n",
    "from sklearn.model_selection import train_test_split\n",
    "\n",
    "# 读取CSV文件\n",
    "df = pd.read_csv('DrugcombDB.csv')\n",
    "\n",
    "# df = df.sample(frac=0.4, random_state=42)\n",
    "\n",
    "# 创建药物组合列\n",
    "df['Drug_combination'] = df['DrugA'] + '|' + df['DrugB']\n",
    "\n",
    "# 获取药物组合的唯一值\n",
    "drug_combinations = df['Drug_combination'].unique()\n",
    "\n",
    "# 划分药物组合：80%用于训练和验证，20%用于测试\n",
    "train_val_combinations, test_combinations = train_test_split(drug_combinations, test_size=0.2, random_state=42)\n",
    "\n",
    "# 将划分后的药物组合对应的样本筛选出来\n",
    "train_val_df = df[df['Drug_combination'].isin(train_val_combinations)]\n",
    "test_df = df[df['Drug_combination'].isin(test_combinations)]\n",
    "\n",
    "train_df, val_df = train_test_split(train_val_df, test_size=0.25, random_state=42)\n",
    "\n",
    "# 保存为不同的CSV文件\n",
    "train_df.to_csv('train_data.csv', index=False)\n",
    "val_df.to_csv('val_data.csv', index=False)\n",
    "test_df.to_csv('test_data.csv', index=False)\n",
    "\n",
    "print(\"数据集划分完成！\", len(train_df), len(val_df), len(test_df))"
   ]
  }
 ],
 "metadata": {
  "kernelspec": {
   "display_name": "pyg",
   "language": "python",
   "name": "python3"
  },
  "language_info": {
   "codemirror_mode": {
    "name": "ipython",
    "version": 3
   },
   "file_extension": ".py",
   "mimetype": "text/x-python",
   "name": "python",
   "nbconvert_exporter": "python",
   "pygments_lexer": "ipython3",
   "version": "3.8.20"
  }
 },
 "nbformat": 4,
 "nbformat_minor": 2
}
